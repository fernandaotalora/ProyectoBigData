{
 "cells": [
  {
   "cell_type": "markdown",
   "metadata": {},
   "source": [
    "# Proyecto Buscador Peliculas Pagina: https://www.peliculas-tv.com"
   ]
  },
  {
   "cell_type": "code",
   "execution_count": null,
   "metadata": {
    "collapsed": true
   },
   "outputs": [],
   "source": [
    "import urllib.request\n",
    "from bs4 import BeautifulSoup\n",
    "\n",
    "#Leemos el Link de la pagina de peliculas\n",
    "url = urllib.request.urlopen('https://www.peliculas-tv.com/')\n",
    "soup = BeautifulSoup(url, 'html.parser')\n",
    "\n",
    "#Obtenemos todos los generos de peliculas\n",
    "generos = soup.findAll(\"ul\",{\"class\":\"ge\"})\n",
    "\n",
    "linkGeneros = []\n",
    "linkPeliculas = []\n",
    "#sacamos el link de cada genero\n",
    "for i in range(len(generos)):    \n",
    "    link = generos[i].li.a['href']\n",
    "    linkGeneros.append(link)    \n",
    "\n",
    "#Por cada genero consultamos el listado de peliculas y lo guardamos en el array de peliculas\n",
    "for j in range(len(linkGeneros)):\n",
    "    url = urllib.request.urlopen(linkGeneros[j])\n",
    "    soup = BeautifulSoup(url, 'html.parser')\n",
    "    peliculas = soup.findAll(\"div\",{\"class\":\"item\"})\n",
    "    for k in range(len(peliculas)):\n",
    "        link = peliculas[k].a['href']\n",
    "        linkPeliculas.append(link)\n",
    "\n",
    "#Por cada pelicula consultamos informacion para guardar en la Base de datos.\n",
    "for k in range(len(linkPeliculas)):\n",
    "    url = urllib.request.urlopen(linkPeliculas[k])\n",
    "    soup = BeautifulSoup(url, 'html.parser')\n",
    "    info = soup.find(\"div\",{\"class\":\"info_movie\"})\n",
    "    imagen = info.img['src']\n",
    "    titulo = info.p.i\n",
    "    print(imagen +\" \"+str(titulo))\n"
   ]
  }
 ],
 "metadata": {
  "kernelspec": {
   "display_name": "Python 3",
   "language": "python",
   "name": "python3"
  },
  "language_info": {
   "codemirror_mode": {
    "name": "ipython",
    "version": 3
   },
   "file_extension": ".py",
   "mimetype": "text/x-python",
   "name": "python",
   "nbconvert_exporter": "python",
   "pygments_lexer": "ipython3",
   "version": "3.6.3"
  }
 },
 "nbformat": 4,
 "nbformat_minor": 2
}
